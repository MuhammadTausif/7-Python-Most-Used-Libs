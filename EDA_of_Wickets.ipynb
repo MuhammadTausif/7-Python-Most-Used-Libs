{
  "nbformat": 4,
  "nbformat_minor": 0,
  "metadata": {
    "colab": {
      "name": "EDA of Wickets.ipynb",
      "provenance": [],
      "authorship_tag": "ABX9TyMe8wVnm8mKrWw4NRaHLEB2",
      "include_colab_link": true
    },
    "kernelspec": {
      "name": "python3",
      "display_name": "Python 3"
    },
    "language_info": {
      "name": "python"
    }
  },
  "cells": [
    {
      "cell_type": "markdown",
      "metadata": {
        "id": "view-in-github",
        "colab_type": "text"
      },
      "source": [
        "<a href=\"https://colab.research.google.com/github/MuhammadTausif/7-Python-Most-Used-Libs/blob/main/EDA_of_Wickets.ipynb\" target=\"_parent\"><img src=\"https://colab.research.google.com/assets/colab-badge.svg\" alt=\"Open In Colab\"/></a>"
      ]
    },
    {
      "cell_type": "code",
      "execution_count": 1,
      "metadata": {
        "colab": {
          "base_uri": "https://localhost:8080/"
        },
        "id": "VPnAensDVDVz",
        "outputId": "809a0e0e-386e-4357-a47d-21537c23b692"
      },
      "outputs": [
        {
          "output_type": "execute_result",
          "data": {
            "text/plain": [
              "4"
            ]
          },
          "metadata": {},
          "execution_count": 1
        }
      ],
      "source": [
        "2+2"
      ]
    },
    {
      "cell_type": "code",
      "source": [
        "import pandas as pd\n",
        "import numpy as np"
      ],
      "metadata": {
        "id": "ohNCATomVJBU"
      },
      "execution_count": 6,
      "outputs": []
    },
    {
      "cell_type": "code",
      "source": [
        "df = pd.read_csv('most-wickets-200+.csv')"
      ],
      "metadata": {
        "id": "KlXSJR6SVKe0"
      },
      "execution_count": 7,
      "outputs": []
    },
    {
      "cell_type": "code",
      "source": [
        "df.head()"
      ],
      "metadata": {
        "colab": {
          "base_uri": "https://localhost:8080/",
          "height": 206
        },
        "id": "deRClIeNWGzu",
        "outputId": "b7d479db-e190-4768-d926-1c9d6f79d7cf"
      },
      "execution_count": 9,
      "outputs": [
        {
          "output_type": "execute_result",
          "data": {
            "text/plain": [
              "                   Player       Span  Mat  Inns  Balls   Runs  Wkts    BBI  \\\n",
              "0  M Muralidaran (ICC/SL)  1992-2010  133   230  44039  18180   800   9/51   \n",
              "1          SK Warne (AUS)  1992-2007  145   273  40705  17995   708   8/71   \n",
              "2       JM Anderson (ENG)  2003-2022  169   314  36396  17014   640   7/42   \n",
              "3        A Kumble (INDIA)  1990-2008  132   236  40850  18355   619  10/74   \n",
              "4        GD McGrath (AUS)  1993-2007  124   243  29248  12186   563   8/24   \n",
              "\n",
              "      BBM    Ave  Econ    SR   5  10  \n",
              "0  16/220  22.72  2.47  55.0  67  22  \n",
              "1  12/128  25.41  2.65  57.4  37  10  \n",
              "2   11/71  26.58  2.80  56.8  31   3  \n",
              "3  14/149  29.65  2.69  65.9  35   8  \n",
              "4   10/27  21.64  2.49  51.9  29   3  "
            ],
            "text/html": [
              "\n",
              "  <div id=\"df-042e40e7-3edd-4a08-af89-a4c77da9e3f1\">\n",
              "    <div class=\"colab-df-container\">\n",
              "      <div>\n",
              "<style scoped>\n",
              "    .dataframe tbody tr th:only-of-type {\n",
              "        vertical-align: middle;\n",
              "    }\n",
              "\n",
              "    .dataframe tbody tr th {\n",
              "        vertical-align: top;\n",
              "    }\n",
              "\n",
              "    .dataframe thead th {\n",
              "        text-align: right;\n",
              "    }\n",
              "</style>\n",
              "<table border=\"1\" class=\"dataframe\">\n",
              "  <thead>\n",
              "    <tr style=\"text-align: right;\">\n",
              "      <th></th>\n",
              "      <th>Player</th>\n",
              "      <th>Span</th>\n",
              "      <th>Mat</th>\n",
              "      <th>Inns</th>\n",
              "      <th>Balls</th>\n",
              "      <th>Runs</th>\n",
              "      <th>Wkts</th>\n",
              "      <th>BBI</th>\n",
              "      <th>BBM</th>\n",
              "      <th>Ave</th>\n",
              "      <th>Econ</th>\n",
              "      <th>SR</th>\n",
              "      <th>5</th>\n",
              "      <th>10</th>\n",
              "    </tr>\n",
              "  </thead>\n",
              "  <tbody>\n",
              "    <tr>\n",
              "      <th>0</th>\n",
              "      <td>M Muralidaran (ICC/SL)</td>\n",
              "      <td>1992-2010</td>\n",
              "      <td>133</td>\n",
              "      <td>230</td>\n",
              "      <td>44039</td>\n",
              "      <td>18180</td>\n",
              "      <td>800</td>\n",
              "      <td>9/51</td>\n",
              "      <td>16/220</td>\n",
              "      <td>22.72</td>\n",
              "      <td>2.47</td>\n",
              "      <td>55.0</td>\n",
              "      <td>67</td>\n",
              "      <td>22</td>\n",
              "    </tr>\n",
              "    <tr>\n",
              "      <th>1</th>\n",
              "      <td>SK Warne (AUS)</td>\n",
              "      <td>1992-2007</td>\n",
              "      <td>145</td>\n",
              "      <td>273</td>\n",
              "      <td>40705</td>\n",
              "      <td>17995</td>\n",
              "      <td>708</td>\n",
              "      <td>8/71</td>\n",
              "      <td>12/128</td>\n",
              "      <td>25.41</td>\n",
              "      <td>2.65</td>\n",
              "      <td>57.4</td>\n",
              "      <td>37</td>\n",
              "      <td>10</td>\n",
              "    </tr>\n",
              "    <tr>\n",
              "      <th>2</th>\n",
              "      <td>JM Anderson (ENG)</td>\n",
              "      <td>2003-2022</td>\n",
              "      <td>169</td>\n",
              "      <td>314</td>\n",
              "      <td>36396</td>\n",
              "      <td>17014</td>\n",
              "      <td>640</td>\n",
              "      <td>7/42</td>\n",
              "      <td>11/71</td>\n",
              "      <td>26.58</td>\n",
              "      <td>2.80</td>\n",
              "      <td>56.8</td>\n",
              "      <td>31</td>\n",
              "      <td>3</td>\n",
              "    </tr>\n",
              "    <tr>\n",
              "      <th>3</th>\n",
              "      <td>A Kumble (INDIA)</td>\n",
              "      <td>1990-2008</td>\n",
              "      <td>132</td>\n",
              "      <td>236</td>\n",
              "      <td>40850</td>\n",
              "      <td>18355</td>\n",
              "      <td>619</td>\n",
              "      <td>10/74</td>\n",
              "      <td>14/149</td>\n",
              "      <td>29.65</td>\n",
              "      <td>2.69</td>\n",
              "      <td>65.9</td>\n",
              "      <td>35</td>\n",
              "      <td>8</td>\n",
              "    </tr>\n",
              "    <tr>\n",
              "      <th>4</th>\n",
              "      <td>GD McGrath (AUS)</td>\n",
              "      <td>1993-2007</td>\n",
              "      <td>124</td>\n",
              "      <td>243</td>\n",
              "      <td>29248</td>\n",
              "      <td>12186</td>\n",
              "      <td>563</td>\n",
              "      <td>8/24</td>\n",
              "      <td>10/27</td>\n",
              "      <td>21.64</td>\n",
              "      <td>2.49</td>\n",
              "      <td>51.9</td>\n",
              "      <td>29</td>\n",
              "      <td>3</td>\n",
              "    </tr>\n",
              "  </tbody>\n",
              "</table>\n",
              "</div>\n",
              "      <button class=\"colab-df-convert\" onclick=\"convertToInteractive('df-042e40e7-3edd-4a08-af89-a4c77da9e3f1')\"\n",
              "              title=\"Convert this dataframe to an interactive table.\"\n",
              "              style=\"display:none;\">\n",
              "        \n",
              "  <svg xmlns=\"http://www.w3.org/2000/svg\" height=\"24px\"viewBox=\"0 0 24 24\"\n",
              "       width=\"24px\">\n",
              "    <path d=\"M0 0h24v24H0V0z\" fill=\"none\"/>\n",
              "    <path d=\"M18.56 5.44l.94 2.06.94-2.06 2.06-.94-2.06-.94-.94-2.06-.94 2.06-2.06.94zm-11 1L8.5 8.5l.94-2.06 2.06-.94-2.06-.94L8.5 2.5l-.94 2.06-2.06.94zm10 10l.94 2.06.94-2.06 2.06-.94-2.06-.94-.94-2.06-.94 2.06-2.06.94z\"/><path d=\"M17.41 7.96l-1.37-1.37c-.4-.4-.92-.59-1.43-.59-.52 0-1.04.2-1.43.59L10.3 9.45l-7.72 7.72c-.78.78-.78 2.05 0 2.83L4 21.41c.39.39.9.59 1.41.59.51 0 1.02-.2 1.41-.59l7.78-7.78 2.81-2.81c.8-.78.8-2.07 0-2.86zM5.41 20L4 18.59l7.72-7.72 1.47 1.35L5.41 20z\"/>\n",
              "  </svg>\n",
              "      </button>\n",
              "      \n",
              "  <style>\n",
              "    .colab-df-container {\n",
              "      display:flex;\n",
              "      flex-wrap:wrap;\n",
              "      gap: 12px;\n",
              "    }\n",
              "\n",
              "    .colab-df-convert {\n",
              "      background-color: #E8F0FE;\n",
              "      border: none;\n",
              "      border-radius: 50%;\n",
              "      cursor: pointer;\n",
              "      display: none;\n",
              "      fill: #1967D2;\n",
              "      height: 32px;\n",
              "      padding: 0 0 0 0;\n",
              "      width: 32px;\n",
              "    }\n",
              "\n",
              "    .colab-df-convert:hover {\n",
              "      background-color: #E2EBFA;\n",
              "      box-shadow: 0px 1px 2px rgba(60, 64, 67, 0.3), 0px 1px 3px 1px rgba(60, 64, 67, 0.15);\n",
              "      fill: #174EA6;\n",
              "    }\n",
              "\n",
              "    [theme=dark] .colab-df-convert {\n",
              "      background-color: #3B4455;\n",
              "      fill: #D2E3FC;\n",
              "    }\n",
              "\n",
              "    [theme=dark] .colab-df-convert:hover {\n",
              "      background-color: #434B5C;\n",
              "      box-shadow: 0px 1px 3px 1px rgba(0, 0, 0, 0.15);\n",
              "      filter: drop-shadow(0px 1px 2px rgba(0, 0, 0, 0.3));\n",
              "      fill: #FFFFFF;\n",
              "    }\n",
              "  </style>\n",
              "\n",
              "      <script>\n",
              "        const buttonEl =\n",
              "          document.querySelector('#df-042e40e7-3edd-4a08-af89-a4c77da9e3f1 button.colab-df-convert');\n",
              "        buttonEl.style.display =\n",
              "          google.colab.kernel.accessAllowed ? 'block' : 'none';\n",
              "\n",
              "        async function convertToInteractive(key) {\n",
              "          const element = document.querySelector('#df-042e40e7-3edd-4a08-af89-a4c77da9e3f1');\n",
              "          const dataTable =\n",
              "            await google.colab.kernel.invokeFunction('convertToInteractive',\n",
              "                                                     [key], {});\n",
              "          if (!dataTable) return;\n",
              "\n",
              "          const docLinkHtml = 'Like what you see? Visit the ' +\n",
              "            '<a target=\"_blank\" href=https://colab.research.google.com/notebooks/data_table.ipynb>data table notebook</a>'\n",
              "            + ' to learn more about interactive tables.';\n",
              "          element.innerHTML = '';\n",
              "          dataTable['output_type'] = 'display_data';\n",
              "          await google.colab.output.renderOutput(dataTable, element);\n",
              "          const docLink = document.createElement('div');\n",
              "          docLink.innerHTML = docLinkHtml;\n",
              "          element.appendChild(docLink);\n",
              "        }\n",
              "      </script>\n",
              "    </div>\n",
              "  </div>\n",
              "  "
            ]
          },
          "metadata": {},
          "execution_count": 9
        }
      ]
    },
    {
      "cell_type": "code",
      "source": [
        ""
      ],
      "metadata": {
        "id": "XAOvJO6PWUcP"
      },
      "execution_count": null,
      "outputs": []
    }
  ]
}